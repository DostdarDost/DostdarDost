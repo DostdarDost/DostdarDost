{
  "nbformat": 4,
  "nbformat_minor": 0,
  "metadata": {
    "colab": {
      "provenance": [],
      "authorship_tag": "ABX9TyN0eEewbZzq8J7GP50yS/vi",
      "include_colab_link": true
    },
    "kernelspec": {
      "name": "python3",
      "display_name": "Python 3"
    },
    "language_info": {
      "name": "python"
    }
  },
  "cells": [
    {
      "cell_type": "markdown",
      "metadata": {
        "id": "view-in-github",
        "colab_type": "text"
      },
      "source": [
        "<a href=\"https://colab.research.google.com/github/DostdarDost/DostdarDost/blob/main/Physics_informed_neural_network_.ipynb\" target=\"_parent\"><img src=\"https://colab.research.google.com/assets/colab-badge.svg\" alt=\"Open In Colab\"/></a>"
      ]
    },
    {
      "cell_type": "markdown",
      "source": [
        "# Physics informed neural networks (PINNs)\n"
      ],
      "metadata": {
        "id": "UrGNgcUxYN84"
      }
    },
    {
      "cell_type": "markdown",
      "source": [
        "# Example \n",
        "### **Burger's Equation** with dirichlet boundary condition\n",
        "\n",
        "u_x +uu_x -0.01/pi u_xx =0\n",
        "\n",
        "x E[-1, 1], t E[0, 1]\n",
        "\n",
        "\n",
        "u(0,x) =-sin(x)\n",
        "\n",
        "u(t,-1) = u(t,1) = 0\n",
        "\n",
        "let us defining f(t,x) to be the given by:\n",
        "\n",
        "f:= u_t +uu_x -0.01/pi u_xx\n",
        "\n",
        "and approximation u(x,t) using deep neural networks\n",
        "Python code snippet using Tensorflow. To this end, u(t,x)\n",
        "can be simply defined as\n",
        " "
      ],
      "metadata": {
        "id": "hp-KFVmcYhux"
      }
    },
    {
      "cell_type": "code",
      "source": [
        "import tensorflow as tf"
      ],
      "metadata": {
        "id": "s879vjHDbOde"
      },
      "execution_count": 2,
      "outputs": []
    },
    {
      "cell_type": "code",
      "source": [
        "def u(t,x):\n",
        "  u =neural_net(tf.concat([t,x],1), weights, biases)"
      ],
      "metadata": {
        "id": "gImMwsZCZ3vG"
      },
      "execution_count": 7,
      "outputs": []
    },
    {
      "cell_type": "markdown",
      "source": [
        "Correspondingly, the physics informed neural network f(t,x)\n",
        " takes the form"
      ],
      "metadata": {
        "id": "1hsrYVWZbzTj"
      }
    },
    {
      "cell_type": "code",
      "source": [
        "def f(t,x):\n",
        "  u=u(t,x)\n",
        "  u_t =tf.gradients(u,t)[0]\n",
        "  u_x =tf.gradients(u,x)[0]\n",
        "  u_xx =tf.gradients(u_x,x)[0]\n",
        "  f = u_t + u*u_x-(0.01/tf.pi)*u_xx\n",
        "  return f"
      ],
      "metadata": {
        "id": "WMdGGXUGb8yB"
      },
      "execution_count": 8,
      "outputs": []
    }
  ]
}